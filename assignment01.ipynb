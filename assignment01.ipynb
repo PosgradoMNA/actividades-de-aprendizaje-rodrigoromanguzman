{
  "nbformat": 4,
  "nbformat_minor": 0,
  "metadata": {
    "colab": {
      "name": "assignment01.ipynb",
      "provenance": [],
      "include_colab_link": true
    },
    "kernelspec": {
      "name": "python3",
      "display_name": "Python 3"
    },
    "language_info": {
      "name": "python"
    }
  },
  "cells": [
    {
      "cell_type": "markdown",
      "metadata": {
        "id": "view-in-github",
        "colab_type": "text"
      },
      "source": [
        "<a href=\"https://colab.research.google.com/github/PosgradoMNA/actividades-de-aprendizaje-rodrigoromanguzman/blob/main/assignment01.ipynb\" target=\"_parent\"><img src=\"https://colab.research.google.com/assets/colab-badge.svg\" alt=\"Open In Colab\"/></a>"
      ]
    },
    {
      "cell_type": "code",
      "execution_count": null,
      "metadata": {
        "id": "LzUSMM79NR9P",
        "outputId": "0e6cb421-1096-426a-b31a-f61d059def81",
        "colab": {
          "base_uri": "https://localhost:8080/"
        }
      },
      "outputs": [
        {
          "output_type": "stream",
          "name": "stdout",
          "text": [
            "assignment01 for GitJobish03 and edited in git, and 18\n"
          ]
        }
      ],
      "source": [
        "print('assignment01 for GitJobish03 and edited in git, and 18')"
      ]
    },
    {
      "cell_type": "markdown",
      "source": [],
      "metadata": {
        "id": "k2QDSc8HBE06"
      }
    },
    {
      "cell_type": "code",
      "source": [
        "print(\"hello \\n world\")"
      ],
      "metadata": {
        "colab": {
          "base_uri": "https://localhost:8080/"
        },
        "id": "TuVjXdJoBFWW",
        "outputId": "f548909f-3e36-4ba9-d184-69c6182a7783"
      },
      "execution_count": 3,
      "outputs": [
        {
          "output_type": "stream",
          "name": "stdout",
          "text": [
            "hello \n",
            " world\n"
          ]
        }
      ]
    },
    {
      "cell_type": "code",
      "source": [
        "#cast int to bool\n",
        "bool(1)"
      ],
      "metadata": {
        "colab": {
          "base_uri": "https://localhost:8080/"
        },
        "id": "v9BBFoKsBIuQ",
        "outputId": "715ddac1-4f17-47b6-a587-7a8c08290125"
      },
      "execution_count": 5,
      "outputs": [
        {
          "output_type": "execute_result",
          "data": {
            "text/plain": [
              "True"
            ]
          },
          "metadata": {},
          "execution_count": 5
        }
      ]
    },
    {
      "cell_type": "code",
      "source": [
        "# expression\n",
        "total_hours = (43 + 42 + 57) / 60  # Total hours in a single expression\n",
        "print(total_hours)"
      ],
      "metadata": {
        "id": "-7GvUkXCCk6V",
        "outputId": "67e597d5-f6a8-407a-8b40-982186e4367e",
        "colab": {
          "base_uri": "https://localhost:8080/"
        }
      },
      "execution_count": 6,
      "outputs": [
        {
          "output_type": "stream",
          "name": "stdout",
          "text": [
            "2.3666666666666667\n"
          ]
        }
      ]
    },
    {
      "cell_type": "code",
      "source": [
        "#find index returns 1\n",
        "\"0123456\".find('1')"
      ],
      "metadata": {
        "id": "0Jtjns9jC_rj",
        "outputId": "95a3b403-25ec-4d62-f131-79b5389c3626",
        "colab": {
          "base_uri": "https://localhost:8080/"
        }
      },
      "execution_count": 7,
      "outputs": [
        {
          "output_type": "execute_result",
          "data": {
            "text/plain": [
              "1"
            ]
          },
          "metadata": {},
          "execution_count": 7
        }
      ]
    },
    {
      "cell_type": "code",
      "source": [
        "#Acces fragments of strings and arrays\n",
        "numbers = \"0123456\"\n",
        "print(numbers[::2])#get even numbers"
      ],
      "metadata": {
        "id": "fbLGxNCMDEmQ",
        "outputId": "646d19e1-9f85-466e-9607-5b72af55a9be",
        "colab": {
          "base_uri": "https://localhost:8080/"
        }
      },
      "execution_count": 8,
      "outputs": [
        {
          "output_type": "stream",
          "name": "stdout",
          "text": [
            "0246\n"
          ]
        }
      ]
    },
    {
      "cell_type": "code",
      "source": [
        "#Tuples Tuples are an ordered sequence.\n",
        "a = (1,2,3,4)\n",
        "#Similar to Strings we can access indexes\n",
        "print(a[1])\n",
        "print(a[3])"
      ],
      "metadata": {
        "id": "uTCtMneGE0Xa",
        "outputId": "35821298-3101-4809-a209-0b0e6fd03df4",
        "colab": {
          "base_uri": "https://localhost:8080/"
        }
      },
      "execution_count": 9,
      "outputs": [
        {
          "output_type": "stream",
          "name": "stdout",
          "text": [
            "2\n",
            "4\n"
          ]
        }
      ]
    },
    {
      "cell_type": "code",
      "source": [
        "#dictionaries are key value pairs\n",
        "D = {'a':0,'b':1,'c':2}\n",
        "#we can access its values only\n",
        "print(D.values())"
      ],
      "metadata": {
        "id": "VYdmugayF1a1",
        "outputId": "82ed76f0-ccbb-4bdf-8722-d3ba5e1fee72",
        "colab": {
          "base_uri": "https://localhost:8080/"
        }
      },
      "execution_count": 11,
      "outputs": [
        {
          "output_type": "stream",
          "name": "stdout",
          "text": [
            "dict_values([0, 1, 2])\n"
          ]
        }
      ]
    },
    {
      "cell_type": "code",
      "source": [
        "#If statements\n",
        "i=4\n",
        "print(i!=0) #not equal to?"
      ],
      "metadata": {
        "id": "P-oHXBWWGmaR",
        "outputId": "db85b149-40f2-4b4d-b621-6d1885e55c89",
        "colab": {
          "base_uri": "https://localhost:8080/"
        }
      },
      "execution_count": 12,
      "outputs": [
        {
          "output_type": "stream",
          "name": "stdout",
          "text": [
            "True\n"
          ]
        }
      ]
    }
  ]
}