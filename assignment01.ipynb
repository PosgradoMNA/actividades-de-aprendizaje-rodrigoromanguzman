{
  "nbformat": 4,
  "nbformat_minor": 0,
  "metadata": {
    "colab": {
      "name": "assignment01.ipynb",
      "provenance": [],
      "include_colab_link": true
    },
    "kernelspec": {
      "name": "python3",
      "display_name": "Python 3"
    },
    "language_info": {
      "name": "python"
    }
  },
  "cells": [
    {
      "cell_type": "markdown",
      "metadata": {
        "id": "view-in-github",
        "colab_type": "text"
      },
      "source": [
        "<a href=\"https://colab.research.google.com/github/PosgradoMNA/actividades-de-aprendizaje-rodrigoromanguzman/blob/main/assignment01.ipynb\" target=\"_parent\"><img src=\"https://colab.research.google.com/assets/colab-badge.svg\" alt=\"Open In Colab\"/></a>"
      ]
    },
    {
      "cell_type": "code",
      "execution_count": null,
      "metadata": {
        "id": "LzUSMM79NR9P",
        "outputId": "0e6cb421-1096-426a-b31a-f61d059def81",
        "colab": {
          "base_uri": "https://localhost:8080/"
        }
      },
      "outputs": [
        {
          "output_type": "stream",
          "name": "stdout",
          "text": [
            "assignment01 for GitJobish03 and edited in git, and 18\n"
          ]
        }
      ],
      "source": [
        "print('assignment01 for GitJobish03 and edited in git, and 18')"
      ]
    },
    {
      "cell_type": "markdown",
      "source": [],
      "metadata": {
        "id": "k2QDSc8HBE06"
      }
    },
    {
      "cell_type": "code",
      "source": [
        "print(\"hello \\n world\")"
      ],
      "metadata": {
        "colab": {
          "base_uri": "https://localhost:8080/"
        },
        "id": "TuVjXdJoBFWW",
        "outputId": "f548909f-3e36-4ba9-d184-69c6182a7783"
      },
      "execution_count": 3,
      "outputs": [
        {
          "output_type": "stream",
          "name": "stdout",
          "text": [
            "hello \n",
            " world\n"
          ]
        }
      ]
    },
    {
      "cell_type": "code",
      "source": [
        "#cast int to bool\n",
        "bool(1)"
      ],
      "metadata": {
        "colab": {
          "base_uri": "https://localhost:8080/"
        },
        "id": "v9BBFoKsBIuQ",
        "outputId": "715ddac1-4f17-47b6-a587-7a8c08290125"
      },
      "execution_count": 5,
      "outputs": [
        {
          "output_type": "execute_result",
          "data": {
            "text/plain": [
              "True"
            ]
          },
          "metadata": {},
          "execution_count": 5
        }
      ]
    },
    {
      "cell_type": "code",
      "source": [
        "# expression\n",
        "total_hours = (43 + 42 + 57) / 60  # Total hours in a single expression\n",
        "print(total_hours)"
      ],
      "metadata": {
        "colab": {
          "base_uri": "https://localhost:8080/"
        },
        "id": "-7GvUkXCCk6V",
        "outputId": "67e597d5-f6a8-407a-8b40-982186e4367e"
      },
      "execution_count": 6,
      "outputs": [
        {
          "output_type": "stream",
          "name": "stdout",
          "text": [
            "2.3666666666666667\n"
          ]
        }
      ]
    },
    {
      "cell_type": "code",
      "source": [
        "#find index returns 1\n",
        "\"0123456\".find('1')"
      ],
      "metadata": {
        "colab": {
          "base_uri": "https://localhost:8080/"
        },
        "id": "0Jtjns9jC_rj",
        "outputId": "95a3b403-25ec-4d62-f131-79b5389c3626"
      },
      "execution_count": 7,
      "outputs": [
        {
          "output_type": "execute_result",
          "data": {
            "text/plain": [
              "1"
            ]
          },
          "metadata": {},
          "execution_count": 7
        }
      ]
    },
    {
      "cell_type": "code",
      "source": [
        "#Acces fragments of strings and arrays\n",
        "numbers = \"0123456\"\n",
        "print(numbers[::2])#get even numbers"
      ],
      "metadata": {
        "colab": {
          "base_uri": "https://localhost:8080/"
        },
        "id": "fbLGxNCMDEmQ",
        "outputId": "646d19e1-9f85-466e-9607-5b72af55a9be"
      },
      "execution_count": 8,
      "outputs": [
        {
          "output_type": "stream",
          "name": "stdout",
          "text": [
            "0246\n"
          ]
        }
      ]
    },
    {
      "cell_type": "code",
      "source": [
        "#Tuples Tuples are an ordered sequence.\n",
        "a = (1,2,3,4)\n",
        "#Similar to Strings we can access indexes\n",
        "print(a[1])\n",
        "print(a[3])"
      ],
      "metadata": {
        "colab": {
          "base_uri": "https://localhost:8080/"
        },
        "id": "uTCtMneGE0Xa",
        "outputId": "35821298-3101-4809-a209-0b0e6fd03df4"
      },
      "execution_count": 9,
      "outputs": [
        {
          "output_type": "stream",
          "name": "stdout",
          "text": [
            "2\n",
            "4\n"
          ]
        }
      ]
    },
    {
      "cell_type": "code",
      "source": [
        "#dictionaries are key value pairs\n",
        "D = {'a':0,'b':1,'c':2}\n",
        "#we can access its values only\n",
        "print(D.values())"
      ],
      "metadata": {
        "colab": {
          "base_uri": "https://localhost:8080/"
        },
        "id": "VYdmugayF1a1",
        "outputId": "82ed76f0-ccbb-4bdf-8722-d3ba5e1fee72"
      },
      "execution_count": 11,
      "outputs": [
        {
          "output_type": "stream",
          "name": "stdout",
          "text": [
            "dict_values([0, 1, 2])\n"
          ]
        }
      ]
    },
    {
      "cell_type": "code",
      "source": [
        "#If else statements\n",
        "i=4\n",
        "print(i!=0) #not equal to?\n",
        "if(i == 4):\n",
        "  print(\"this is 4\")\n",
        "else:\n",
        "  print('this is not 4')"
      ],
      "metadata": {
        "colab": {
          "base_uri": "https://localhost:8080/"
        },
        "id": "P-oHXBWWGmaR",
        "outputId": "3c6fea74-0aab-4ea4-abeb-decfdc1b9e3b"
      },
      "execution_count": 13,
      "outputs": [
        {
          "output_type": "stream",
          "name": "stdout",
          "text": [
            "True\n",
            "this is 4\n"
          ]
        }
      ]
    },
    {
      "cell_type": "code",
      "source": [
        "#For Loops\n",
        "A=[3,4,5]\n",
        "\n",
        "for a in A:\n",
        "  print(a)"
      ],
      "metadata": {
        "colab": {
          "base_uri": "https://localhost:8080/"
        },
        "id": "27iwBvBOHRtM",
        "outputId": "0538ac2d-355b-46fd-a359-af3d901d7b3a"
      },
      "execution_count": 14,
      "outputs": [
        {
          "output_type": "stream",
          "name": "stdout",
          "text": [
            "3\n",
            "4\n",
            "5\n"
          ]
        }
      ]
    },
    {
      "cell_type": "code",
      "source": [
        "#while loop\n",
        "x=3\n",
        "\n",
        "y=1\n",
        "\n",
        "while(y!=x):\n",
        "\n",
        "  print(y)\n",
        "\n",
        "  y=y+1"
      ],
      "metadata": {
        "colab": {
          "base_uri": "https://localhost:8080/"
        },
        "id": "p2bL_hhCHbLE",
        "outputId": "5c086ab1-5e17-4127-e5d7-530e34642f1f"
      },
      "execution_count": 15,
      "outputs": [
        {
          "output_type": "stream",
          "name": "stdout",
          "text": [
            "1\n",
            "2\n"
          ]
        }
      ]
    },
    {
      "cell_type": "code",
      "source": [
        "#functions\n",
        "a=1\n",
        "\n",
        "def add(b):\n",
        "\n",
        "  return a+b\n",
        "\n",
        "c=add(10)\n",
        "\n",
        "def f(*x):\n",
        "  return sum(x)\n",
        "print(f(1,2,6))"
      ],
      "metadata": {
        "colab": {
          "base_uri": "https://localhost:8080/"
        },
        "id": "uhp_fGkJHn2u",
        "outputId": "a617980e-e9f5-4786-aaac-efc0852c2979"
      },
      "execution_count": 22,
      "outputs": [
        {
          "output_type": "stream",
          "name": "stdout",
          "text": [
            "9\n"
          ]
        }
      ]
    },
    {
      "cell_type": "code",
      "source": [
        "# working with classes\n",
        "#Define Car class\n",
        "class Car(object):\n",
        "  def __init__(self,make,model,color):\n",
        "    self.make = make;\n",
        "    self.model = model;\n",
        "    self.color = color;\n",
        "#create an instance of the Car class by named parameters\n",
        "Car(make=\"Honda\",model=\"Accord\",color=\"blue\")\n",
        "#create an instance of Car by respecting the order of the params\n",
        "car1 = Car(\"Honda\",\"Accord\",\"blue\")\n",
        "\n",
        "#getters are automatically given by python __init__\n",
        "print(car1.make)\n"
      ],
      "metadata": {
        "id": "v06J9D5jUzzr",
        "outputId": "ff82d5e9-bbc0-4b70-b5a2-c0ec16c639aa",
        "colab": {
          "base_uri": "https://localhost:8080/"
        }
      },
      "execution_count": 3,
      "outputs": [
        {
          "output_type": "stream",
          "name": "stdout",
          "text": [
            "Honda\n"
          ]
        }
      ]
    },
    {
      "cell_type": "code",
      "source": [
        "#Handling exceptions\n",
        "try:\n",
        "  1/0 #zero division\n",
        "    # code to try to execute\n",
        "except:\n",
        "  print(\"unable to perform zero division\")\n",
        "    # code to execute if there is an exception"
      ],
      "metadata": {
        "id": "orhp1SAydx24",
        "outputId": "209d9b01-933e-40d2-c023-c860bccc583f",
        "colab": {
          "base_uri": "https://localhost:8080/"
        }
      },
      "execution_count": 4,
      "outputs": [
        {
          "output_type": "stream",
          "name": "stdout",
          "text": [
            "unable to perform zero division\n"
          ]
        }
      ]
    },
    {
      "cell_type": "code",
      "source": [
        "a = 1\n",
        "#list the exceptions and handle them one by one\n",
        "try:\n",
        "    b = int(input(\"Please enter a number to divide a\"))\n",
        "    a = a/b\n",
        "    print(\"Success a=\",a)\n",
        "except ZeroDivisionError:\n",
        "    print(\"The number you provided cant divide 1 because it is 0\")\n",
        "except ValueError:\n",
        "    print(\"You did not provide a number\")\n",
        "except:\n",
        "    print(\"Something went wrong\")"
      ],
      "metadata": {
        "id": "z-YBk4QQeNEg"
      },
      "execution_count": null,
      "outputs": []
    }
  ]
}