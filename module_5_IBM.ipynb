{
  "nbformat": 4,
  "nbformat_minor": 0,
  "metadata": {
    "colab": {
      "name": "assignment01.ipynb",
      "provenance": [],
      "include_colab_link": true
    },
    "kernelspec": {
      "name": "python3",
      "display_name": "Python 3"
    },
    "language_info": {
      "name": "python"
    }
  },
  "cells": [
    {
      "cell_type": "markdown",
      "metadata": {
        "id": "view-in-github",
        "colab_type": "text"
      },
      "source": [
        "<a href=\"https://colab.research.google.com/github/PosgradoMNA/actividades-de-aprendizaje-rodrigoromanguzman/blob/main/module_5_IBM.ipynb\" target=\"_parent\"><img src=\"https://colab.research.google.com/assets/colab-badge.svg\" alt=\"Open In Colab\"/></a>"
      ]
    },
    {
      "cell_type": "markdown",
      "source": [
        "<h2>IBM module 5 | Rodrigo Ildefonso Roman Guzman |A01794225|Jobish</h2>"
      ],
      "metadata": {
        "id": "UkVADy0sOpD8"
      }
    },
    {
      "cell_type": "markdown",
      "source": [
        "<h3> - Numpy Arrays -</h3>"
      ],
      "metadata": {
        "id": "q4Ri5mhiOwcB"
      }
    },
    {
      "cell_type": "markdown",
      "source": [
        "<p>Numpy is the basis for Pandas.</p>\n",
        "<b>The elements of a numpy array are all of the same type</p>"
      ],
      "metadata": {
        "id": "-iLfQG6HO3Sw"
      }
    },
    {
      "cell_type": "code",
      "source": [
        "import numpy as np\n",
        "a = np.array([0,1,2,3,4,5])\n",
        "print(a.size) #atributes\n",
        "print(a.ndim) #dimennsion of arrays (rank)\n",
        "print(a.shape) # tupple of ints indicating the size of the array in each dimension"
      ],
      "metadata": {
        "id": "o0QbUXMyTfTa",
        "outputId": "2565d344-fbce-4b8e-edad-b27127175e75",
        "colab": {
          "base_uri": "https://localhost:8080/"
        }
      },
      "execution_count": 3,
      "outputs": [
        {
          "output_type": "stream",
          "name": "stdout",
          "text": [
            "6\n",
            "1\n",
            "(6,)\n"
          ]
        }
      ]
    },
    {
      "cell_type": "markdown",
      "source": [
        "<h4>Indexing and slicing</h4>"
      ],
      "metadata": {
        "id": "Wp8edZWiUCfF"
      }
    },
    {
      "cell_type": "code",
      "source": [
        "a[0] #access first elemnt of array\n",
        "a[1:4] # access from index 1 to index 3"
      ],
      "metadata": {
        "id": "mhkdnV95UAbE"
      },
      "execution_count": null,
      "outputs": []
    },
    {
      "cell_type": "markdown",
      "source": [
        "<h4>Basic operations</h4>"
      ],
      "metadata": {
        "id": "loze17_6UuNn"
      }
    },
    {
      "cell_type": "code",
      "source": [
        "b = np.array([3,3,3,3,3,3])\n",
        "print(a)\n",
        "print(a+b) #Addition of verctors and matrices fast and directly\n",
        "print(a*3) #Multiplication by a scalar\n",
        "print(np.dot(a,b)) #Dot product\n",
        "print(a+1) #Bradcasted addition of the scalar\n"
      ],
      "metadata": {
        "id": "voMqdoDpUyS3",
        "outputId": "fe48b8eb-e223-4718-dfd3-4836757d336c",
        "colab": {
          "base_uri": "https://localhost:8080/"
        }
      },
      "execution_count": 6,
      "outputs": [
        {
          "output_type": "stream",
          "name": "stdout",
          "text": [
            "[0 1 2 3 4 5]\n",
            "[3 4 5 6 7 8]\n",
            "[ 0  3  6  9 12 15]\n",
            "45\n",
            "[1 2 3 4 5 6]\n"
          ]
        }
      ]
    },
    {
      "cell_type": "markdown",
      "source": [
        "<h3>Universal functions</h3>"
      ],
      "metadata": {
        "id": "jeNjifJnVng-"
      }
    },
    {
      "cell_type": "code",
      "source": [
        "print(a.mean())\n",
        "print(a.max())\n",
        "print(np.pi)"
      ],
      "metadata": {
        "id": "vHifyFd3VtIf",
        "outputId": "ca4ae6ea-0e27-4b66-d066-1c7617c75324",
        "colab": {
          "base_uri": "https://localhost:8080/"
        }
      },
      "execution_count": 7,
      "outputs": [
        {
          "output_type": "stream",
          "name": "stdout",
          "text": [
            "2.5\n",
            "5\n",
            "3.141592653589793\n"
          ]
        }
      ]
    },
    {
      "cell_type": "markdown",
      "source": [
        "<h4>Linspace function</h4>"
      ],
      "metadata": {
        "id": "OD1NYyTeV8rs"
      }
    },
    {
      "cell_type": "markdown",
      "source": [
        "<p>Returns an evenly spaced array of numbers in the specified range</p>"
      ],
      "metadata": {
        "id": "32l9qflxWQLC"
      }
    },
    {
      "cell_type": "code",
      "source": [
        "x = np.linspace(-np.pi,np.pi,num=100) #(min of range, max of range, number of items in the array)\n",
        "np.sin(x)"
      ],
      "metadata": {
        "id": "AgF2-27sWBj-",
        "outputId": "a01894d6-57d3-413e-aade-21c7f2626355",
        "colab": {
          "base_uri": "https://localhost:8080/"
        }
      },
      "execution_count": 11,
      "outputs": [
        {
          "output_type": "execute_result",
          "data": {
            "text/plain": [
              "array([-1.22464680e-16, -6.34239197e-02, -1.26592454e-01, -1.89251244e-01,\n",
              "       -2.51147987e-01, -3.12033446e-01, -3.71662456e-01, -4.29794912e-01,\n",
              "       -4.86196736e-01, -5.40640817e-01, -5.92907929e-01, -6.42787610e-01,\n",
              "       -6.90079011e-01, -7.34591709e-01, -7.76146464e-01, -8.14575952e-01,\n",
              "       -8.49725430e-01, -8.81453363e-01, -9.09631995e-01, -9.34147860e-01,\n",
              "       -9.54902241e-01, -9.71811568e-01, -9.84807753e-01, -9.93838464e-01,\n",
              "       -9.98867339e-01, -9.99874128e-01, -9.96854776e-01, -9.89821442e-01,\n",
              "       -9.78802446e-01, -9.63842159e-01, -9.45000819e-01, -9.22354294e-01,\n",
              "       -8.95993774e-01, -8.66025404e-01, -8.32569855e-01, -7.95761841e-01,\n",
              "       -7.55749574e-01, -7.12694171e-01, -6.66769001e-01, -6.18158986e-01,\n",
              "       -5.67059864e-01, -5.13677392e-01, -4.58226522e-01, -4.00930535e-01,\n",
              "       -3.42020143e-01, -2.81732557e-01, -2.20310533e-01, -1.58001396e-01,\n",
              "       -9.50560433e-02, -3.17279335e-02,  3.17279335e-02,  9.50560433e-02,\n",
              "        1.58001396e-01,  2.20310533e-01,  2.81732557e-01,  3.42020143e-01,\n",
              "        4.00930535e-01,  4.58226522e-01,  5.13677392e-01,  5.67059864e-01,\n",
              "        6.18158986e-01,  6.66769001e-01,  7.12694171e-01,  7.55749574e-01,\n",
              "        7.95761841e-01,  8.32569855e-01,  8.66025404e-01,  8.95993774e-01,\n",
              "        9.22354294e-01,  9.45000819e-01,  9.63842159e-01,  9.78802446e-01,\n",
              "        9.89821442e-01,  9.96854776e-01,  9.99874128e-01,  9.98867339e-01,\n",
              "        9.93838464e-01,  9.84807753e-01,  9.71811568e-01,  9.54902241e-01,\n",
              "        9.34147860e-01,  9.09631995e-01,  8.81453363e-01,  8.49725430e-01,\n",
              "        8.14575952e-01,  7.76146464e-01,  7.34591709e-01,  6.90079011e-01,\n",
              "        6.42787610e-01,  5.92907929e-01,  5.40640817e-01,  4.86196736e-01,\n",
              "        4.29794912e-01,  3.71662456e-01,  3.12033446e-01,  2.51147987e-01,\n",
              "        1.89251244e-01,  1.26592454e-01,  6.34239197e-02,  1.22464680e-16])"
            ]
          },
          "metadata": {},
          "execution_count": 11
        }
      ]
    }
  ]
}