{
  "nbformat": 4,
  "nbformat_minor": 0,
  "metadata": {
    "colab": {
      "name": "assignment01.ipynb",
      "provenance": [],
      "include_colab_link": true
    },
    "kernelspec": {
      "name": "python3",
      "display_name": "Python 3"
    },
    "language_info": {
      "name": "python"
    }
  },
  "cells": [
    {
      "cell_type": "markdown",
      "metadata": {
        "id": "view-in-github",
        "colab_type": "text"
      },
      "source": [
        "<a href=\"https://colab.research.google.com/github/PosgradoMNA/actividades-de-aprendizaje-rodrigoromanguzman/blob/main/semana3_actividad1_rodrigo_roman.ipynb\" target=\"_parent\"><img src=\"https://colab.research.google.com/assets/colab-badge.svg\" alt=\"Open In Colab\"/></a>"
      ]
    },
    {
      "cell_type": "markdown",
      "source": [
        "##Semana 3 Acitividad 1 | Rodrigo Ildefonso Roman Guzman |A01794225|Data Science | Jobish | 28/Sep/2022\n"
      ],
      "metadata": {
        "id": "5q5oebJjCd4z"
      }
    },
    {
      "cell_type": "markdown",
      "source": [
        "\n",
        "\n",
        "---\n",
        "\n"
      ],
      "metadata": {
        "id": "fdQrjJKNDMuR"
      }
    },
    {
      "cell_type": "markdown",
      "source": [
        "##**Parte 1**\n",
        "\n",
        "\n"
      ],
      "metadata": {
        "id": "YLGczXnAC1v5"
      }
    },
    {
      "cell_type": "markdown",
      "source": [
        "<h3>1) Fundamentos de bases de datos y para ciencia de datos</h3>"
      ],
      "metadata": {
        "id": "zrSxPdNaDCwf"
      }
    },
    {
      "cell_type": "markdown",
      "source": [
        "<p>Existen diferentes tipos de fuentes de datos con las que trabaja un analista de datos o un scientifico de datos. Entre estos encontramos APIs, documentos de Excel o bases de datos formales de tipo relacional o no relacional. </p>\n",
        "<p>\n",
        "Las bases de datos relacionales son las mas communmente utilizadas debido a su optimizacion del registro de sus entradas. Dado que se proporciona un <i>Primary key</i> que funciona como referencia unica a una entidad especifica. Este tipo de base de datos permite la relacion entre tablas del tipo <i>one to many</i> o <i>many to many</i>. En las bases de datos encontramos dos componentes principales que son las <i>filas</i>: que son instancias de una entidad y <i>columnas</i> son las caracteristicas de la entidad.\n",
        "</p>"
      ],
      "metadata": {
        "id": "6VFqaPHvDZnm"
      }
    },
    {
      "cell_type": "markdown",
      "source": [
        "<h3>2) Fundamentos de almacenes de datos (Data Warehouse) para ciencia de datos </h3>"
      ],
      "metadata": {
        "id": "Wq3Ka2TNGhH1"
      }
    },
    {
      "cell_type": "markdown",
      "source": [
        "<h3><b>Que es Data Warehouse?</b></h3> \n",
        "<p>\n",
        "Basicamente es una base de datos enorme que contiene informacion de diferentes fuentes que vincula para ser utilizadas en conjunto. Data Warehouse tiene el reto de unir las fuentes, transformarlas en un esquema comun que permita hacer consultas eficientemente de todas las fuentes a la vez.\n",
        "</p>\n",
        "<h5><b>Que desafios se presentan en Data Warehouse?</b></h5> \n",
        "<ul>\n",
        "  <li>Como lidiar con escalas iguales para los datos?</li>\n",
        "  <li>Como lidiar con datos faltantes?</li>\n",
        "  <li>Como lidiar con datos corruptos como los provenientes de bots?</li>\n",
        "</ul>\n",
        "<hr>\n",
        "<h3><b>ETL vs ELT</b></h3> \n",
        "\n",
        "<b>ELT (Extract,Transform,Load):</b> \n",
        "<p>Consiste en extraer la informacion, transformarla y posteriormente cargarla. Es el metodo convencional de usar warehouse y actualmente es considerado anticuado\n",
        "</p>\n",
        "\n",
        "<b>ETL (Extract, Load, Transform):</b> \n",
        "<p> Se cuenta con una base de datos distribuida sobre un Hadoop cluster que permite usar las capacidades que ofrecen HIVE, Spark o MapReduce.\n",
        "</p>\n",
        "<p>\n",
        "La principal diferencia es que ETL en vez de hacer procesos de transformacion de datos sin internet carga los datos en archivos de textop y pasa por cada linea por medio de Hadoop para entonces transformarlos en un formato mas estructurado que pueda ser consultado mas facilmente.\n",
        "</p>\n",
        "\n"
      ],
      "metadata": {
        "id": "-bXy7MXGIGQ3"
      }
    }
  ]
}